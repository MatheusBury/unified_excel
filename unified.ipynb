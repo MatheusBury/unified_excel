{
 "cells": [
  {
   "cell_type": "code",
   "execution_count": 6,
   "metadata": {},
   "outputs": [],
   "source": [
    "import os\n",
    "import pandas as pd\n"
   ]
  },
  {
   "cell_type": "code",
   "execution_count": 7,
   "metadata": {},
   "outputs": [],
   "source": [
    "def concatenar_piping(list_piping):\n",
    "    \n",
    "    unified = []\n",
    "\n",
    "    for arquivos in list_piping:\n",
    "        df = pd.read_excel(arquivos)\n",
    "        unified.append(df)\n",
    "        \n",
    "    df_concatenado = pd.concat(unified, ignore_index=True)\n",
    "\n",
    "    new_title = ['guid','module_mv33']\n",
    "    if len(new_title) == df_concatenado.shape[1]:\n",
    "        df_concatenado.columns = new_title\n",
    "\n",
    "    nome_aba = '1384'\n",
    "\n",
    "    outupu = r'C:\\Users\\Matheus\\Downloads\\prontos pra subir\\arquivo_concatenado_piping.xlsx'\n",
    "\n",
    "    with pd.ExcelWriter(outupu) as writer:\n",
    "        df_concatenado.to_excel(writer, index=False) #sheet_name=nome_aba"
   ]
  },
  {
   "cell_type": "code",
   "execution_count": 8,
   "metadata": {},
   "outputs": [],
   "source": [
    "def concatenar_non_piping(list_non_piping):\n",
    "    \n",
    "    unified = []\n",
    "\n",
    "    for arquivos in list_non_piping:\n",
    "        df = pd.read_excel(arquivos)\n",
    "        unified.append(df)\n",
    "        \n",
    "    df_concatenado = pd.concat(unified, ignore_index=True)\n",
    "\n",
    "    new_title = ['guid','module_mv33']\n",
    "    if len(new_title) == df_concatenado.shape[1]:\n",
    "        df_concatenado.columns = new_title\n",
    "\n",
    "    nome_aba = '1385'\n",
    "\n",
    "    outupu = r'C:\\Users\\Matheus\\Downloads\\prontos pra subir\\arquivo_concatenado_NON_piping.xlsx'\n",
    "\n",
    "    with pd.ExcelWriter(outupu) as writer:\n",
    "        df_concatenado.to_excel(writer, sheet_name=nome_aba, index=False)     "
   ]
  },
  {
   "cell_type": "code",
   "execution_count": 9,
   "metadata": {},
   "outputs": [],
   "source": [
    "\n",
    "path_non_piping = r\"C:\\Users\\Matheus\\Downloads\\modules para juntar non piping\"\n",
    "path_piping = r\"C:\\Users\\Matheus\\Downloads\\modules para juntar piping\"\n",
    "\n",
    "\n",
    "list_non_piping = [os.path.join(path_non_piping,item) for item in os.listdir(path_non_piping)]\n",
    "list_piping = [os.path.join(path_piping,item) for item in os.listdir(path_piping)]"
   ]
  },
  {
   "cell_type": "code",
   "execution_count": 10,
   "metadata": {},
   "outputs": [],
   "source": [
    "concatenar_non_piping(list_non_piping)\n",
    "concatenar_piping(list_non_piping)"
   ]
  }
 ],
 "metadata": {
  "kernelspec": {
   "display_name": "base",
   "language": "python",
   "name": "python3"
  },
  "language_info": {
   "codemirror_mode": {
    "name": "ipython",
    "version": 3
   },
   "file_extension": ".py",
   "mimetype": "text/x-python",
   "name": "python",
   "nbconvert_exporter": "python",
   "pygments_lexer": "ipython3",
   "version": "3.11.7"
  }
 },
 "nbformat": 4,
 "nbformat_minor": 2
}
